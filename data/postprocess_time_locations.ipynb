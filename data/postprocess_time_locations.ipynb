{
 "cells": [
  {
   "cell_type": "code",
   "execution_count": 43,
   "metadata": {},
   "outputs": [],
   "source": [
    "import pandas as pd\n",
    "\n",
    "pd.set_option('display.max_rows', None)\n",
    "data = pd.read_csv('processed/time_location.csv')"
   ]
  },
  {
   "cell_type": "code",
   "execution_count": 44,
   "metadata": {},
   "outputs": [],
   "source": [
    "grouped = data.groupby(['sub_location', 'location']).agg(\n",
    "        {\n",
    "            \"time\": \"sum\",\n",
    "        }).sort_values(by='time', ascending=False).reset_index()"
   ]
  },
  {
   "cell_type": "code",
   "execution_count": 45,
   "metadata": {},
   "outputs": [
    {
     "name": "stdout",
     "output_type": "stream",
     "text": [
      "                              sub_location           location    time\n",
      "0                           King's Landing     The Crownlands  209235\n",
      "1                               Winterfell          The North  118979\n",
      "2                             Castle Black           The Wall   65230\n",
      "3                                  Meereen            Meereen   41679\n",
      "4                              Dragonstone     The Crownlands   36930\n",
      "5                   Outside King's Landing     The Crownlands   32745\n",
      "6                                  Braavos            Braavos   21318\n",
      "7                       The Haunted Forest  North of the Wall   16004\n",
      "8                             Vaes Dothrak       Vaes Dothrak   14760\n",
      "9                           Craster's Keep  North of the Wall   12797\n",
      "10                               The Twins     The Riverlands   12579\n",
      "11                      Outside Winterfell          The North   12478\n",
      "12                               The Eyrie           The Vale   11287\n",
      "13                               Harrenhal     The Riverlands   11151\n",
      "14                           The Red Waste      The Red Waste   10496\n",
      "15                                Riverrun     The Riverlands    9795\n",
      "16                                   Qarth              Qarth    9135\n",
      "17                          Crossroads Inn     The Riverlands    7312\n",
      "18                             Storm's End     The Stormlands    7011\n",
      "19                           The Dreadfort          The North    6874\n",
      "20                                Hardhome  North of the Wall    6860\n",
      "21                       The Water Gardens              Dorne    6618\n",
      "22                          Outside Yunkai             Yunkai    6563\n",
      "23                            To The Eyrie     The Riverlands    6386\n",
      "24                             Hollow Hill     The Riverlands    6297\n",
      "25                                    Pyke   The Iron Islands    6079\n",
      "26                        The Dothraki Sea   The Dothraki Sea    5913\n",
      "27                                 Astapor            Astapor    5733\n",
      "28                     Frostfang Mountains  North of the Wall    5598\n",
      "29                Stannis Baratheon's Camp          The North    5580\n",
      "30                       Camp of the North    The Westerlands    5565\n",
      "31                                The Gift          The North    5466\n",
      "32                       North to the Wall          The North    5345\n",
      "33                                  Pentos             Pentos    5237\n",
      "34                    The Three-Eyed Raven  North of the Wall    5124\n",
      "35                           The Kingsroad     The Riverlands    4642\n",
      "36                                 Oldtown          The Reach    4303\n",
      "37                         Blackwater Rush     The Crownlands    4096\n",
      "38                   Fist of the First Men  North of the Wall    4070\n",
      "39                                The Wall  North of the Wall    3978\n",
      "40                           The Wolfswood          The North    3961\n",
      "41                       Camp of the North     The Riverlands    3847\n",
      "42                               Horn Hill          The Reach    3704\n",
      "43                          Lannister Camp     The Riverlands    3340\n",
      "44                       Lhazareen Village   The Dothraki Sea    3159\n",
      "45                          Blackwater Bay     The Crownlands    3062\n",
      "46                                   Dorne              Dorne    3012\n",
      "47                               Nightfort           The Wall    2814\n",
      "48                           Dothraki Camp   The Dothraki Sea    2600\n",
      "49                             Mole's Town           The Wall    2526\n",
      "50                          Lannister Camp    The Westerlands    2442\n",
      "51                               Eastwatch           The Wall    2378\n",
      "52                            Tower of Joy              Dorne    2282\n",
      "53                                Volantis           Volantis    2138\n",
      "54                  East to King's Landing     The Riverlands    2121\n",
      "55                                  Yunkai             Yunkai    2117\n",
      "56                            To The Eyrie           The Vale    2089\n",
      "57                             Moat Cailin          The North    2084\n",
      "58                         Outside Meereen            Meereen    2066\n",
      "59                            To Harrenhal     The Riverlands    1920\n",
      "60                                 Village     The Riverlands    1756\n",
      "61                          The Narrow Sea     The Narrow Sea    1605\n",
      "62            Outside the Three-Eyed Raven  North of the Wall    1593\n",
      "63                                The Neck          The North    1576\n",
      "64                             Bear Island          The North    1575\n",
      "65                             Winter Town          The North    1525\n",
      "66                                The Gift           The Wall    1475\n",
      "67                              Highgarden          The Reach    1441\n",
      "68                            Eastern Road           The Vale    1340\n",
      "69                            Slaver's Bay            Valyria    1314\n",
      "70                         Destroyed Cabin  North of the Wall    1270\n",
      "71                                     Inn           The Vale    1191\n",
      "72                   North to the Red Fork     The Riverlands    1116\n",
      "73                       South to the Wall  North of the Wall    1033\n",
      "74                                 Valyria            Valyria    1030\n",
      "75                               Runestone           The Vale    1021\n",
      "76                          The Summer Sea     The Summer Sea    1010\n",
      "77                                  Forest     The Riverlands    1008\n",
      "78                                 Oxcross    The Westerlands     908\n",
      "79                               Lordsport   The Iron Islands     882\n",
      "80                            To The Twins     The Riverlands     867\n",
      "81                 South to King's Landing     The Riverlands     781\n",
      "82                    Outside Castle Black           The Wall     731\n",
      "83                            To Horn Hill          The Reach     687\n",
      "84                      To the Westerlands           The Vale     679\n",
      "85                             To Riverrun     The Riverlands     670\n",
      "86                   Outside Casterly Rock    The Westerlands     653\n",
      "87                 Nightswatch March South  North of the Wall     647\n",
      "88                             Last Hearth          The North     617\n",
      "89              The Lands of Always Winter  North of the Wall     600\n",
      "90                          Deepwood Motte          The North     596\n",
      "91                           Wildling Camp  North of the Wall     592\n",
      "92                     Away from the Twins     The Riverlands     520\n",
      "93                   Wildlings March South  North of the Wall     517\n",
      "94                         Top of the Wall           The Wall     514\n",
      "95                         Outside the Inn           The Vale     513\n",
      "96                            Vaes Dothrak              Qarth     480\n",
      "97                           The Kingswood     The Crownlands     452\n",
      "98                       Outside Harrenhal     The Riverlands     440\n",
      "99              Cave Outside Wildling Camp  North of the Wall     430\n",
      "100                      The Shivering Sea  The Shivering Sea     420\n",
      "101  The Kingsroad South to King's Landing          The North     414\n",
      "102                    Volantis to Valyria           Volantis     414\n",
      "103                             The Desert      The Red Waste     404\n",
      "104                      Castle Stokeworth     The Crownlands     379\n",
      "105                              The Woods     The Stormlands     376\n",
      "106                            To The Vale           The Vale     364\n",
      "107                         The Sunset Sea     The Sunset Sea     342\n",
      "108                                  Tarth     The Stormlands     338\n",
      "109                               Red Fork     The Riverlands     334\n",
      "110                            Battlefield     The Riverlands     297\n",
      "111                         Near Nightfort  North of the Wall     294\n",
      "112                     Pentos to Volantis             Pentos     292\n",
      "113                      To King's Landing    The Westerlands     286\n",
      "114                      Coast of the Vale           The Vale     218\n",
      "115                          Casterly Rock    The Westerlands     113\n",
      "116                         King's Landing              Qarth     103\n",
      "117                               The Wall              Qarth      40\n",
      "118                           Slaver's Bay            Astapor      14\n"
     ]
    }
   ],
   "source": [
    "print(grouped)"
   ]
  },
  {
   "cell_type": "markdown",
   "metadata": {},
   "source": [
    "# Rename Locations\n",
    "\n",
    "Here, we merge locations which are very similar. "
   ]
  },
  {
   "cell_type": "code",
   "execution_count": 4,
   "metadata": {},
   "outputs": [
    {
     "name": "stdout",
     "output_type": "stream",
     "text": [
      "                    name episode location    sub_location  time\n",
      "2276  Daenerys Targaryen  S02E10    Qarth  King's Landing   103\n"
     ]
    }
   ],
   "source": [
    "filtered_data = data[(data['location'] == \"Qarth\") & (data['sub_location'] == \"King's Landing\")]\n",
    "print(filtered_data)"
   ]
  },
  {
   "cell_type": "code",
   "execution_count": 5,
   "metadata": {},
   "outputs": [],
   "source": [
    "# Rename all entries with location=\"Qarth\" and sub_location=\"King's Landing\" to location=\"Qarth\" and sub_location=\"Qarth\"\n",
    "data.loc[(data['location'] == \"Qarth\") & (data['sub_location'] == \"King's Landing\"), 'sub_location'] = \"Qarth\""
   ]
  },
  {
   "cell_type": "code",
   "execution_count": 6,
   "metadata": {},
   "outputs": [
    {
     "name": "stdout",
     "output_type": "stream",
     "text": [
      "                    name episode location sub_location  time\n",
      "2277  Daenerys Targaryen  S02E10    Qarth     The Wall    40\n"
     ]
    }
   ],
   "source": [
    "filtered_data = data[(data['location'] == \"Qarth\") & (data['sub_location'] == \"The Wall\")]\n",
    "print(filtered_data)"
   ]
  },
  {
   "cell_type": "code",
   "execution_count": 7,
   "metadata": {},
   "outputs": [],
   "source": [
    "data.loc[(data['location'] == \"Qarth\") & (data['sub_location'] == \"The Wall\"), 'sub_location'] = \"Qarth\""
   ]
  },
  {
   "cell_type": "code",
   "execution_count": 8,
   "metadata": {},
   "outputs": [
    {
     "name": "stdout",
     "output_type": "stream",
     "text": [
      "                    name episode location  sub_location  time\n",
      "2278  Daenerys Targaryen  S02E10    Qarth  Vaes Dothrak   160\n",
      "2279          Khal Drogo  S02E10    Qarth  Vaes Dothrak   160\n",
      "2280              Rhaego  S02E10    Qarth  Vaes Dothrak   160\n"
     ]
    }
   ],
   "source": [
    "filtered_data = data[(data['location'] == \"Qarth\") & (data['sub_location'] == \"Vaes Dothrak\")]\n",
    "print(filtered_data)"
   ]
  },
  {
   "cell_type": "code",
   "execution_count": 9,
   "metadata": {},
   "outputs": [],
   "source": [
    "data.loc[(data['location'] == \"Qarth\") & (data['sub_location'] == \"Vaes Dothrak\"), 'sub_location'] = \"Qarth\""
   ]
  },
  {
   "cell_type": "code",
   "execution_count": 10,
   "metadata": {},
   "outputs": [
    {
     "name": "stdout",
     "output_type": "stream",
     "text": [
      "                   name episode       location sub_location  time\n",
      "890  Daenerys Targaryen  S01E09  The Red Waste   The Desert   101\n",
      "891          Khal Drogo  S01E09  The Red Waste   The Desert   101\n",
      "892               Qotho  S01E09  The Red Waste   The Desert   101\n",
      "893             Rakharo  S01E09  The Red Waste   The Desert   101\n"
     ]
    }
   ],
   "source": [
    "filtered_data = data[(data['location'] == \"The Red Waste\") & (data['sub_location'] == \"The Desert\")]\n",
    "print(filtered_data)"
   ]
  },
  {
   "cell_type": "code",
   "execution_count": 11,
   "metadata": {},
   "outputs": [],
   "source": [
    "data.loc[(data['location'] == \"The Red Waste\") & (data['sub_location'] == \"The Desert\"), 'sub_location'] = \"The Red Waste\""
   ]
  },
  {
   "cell_type": "code",
   "execution_count": 12,
   "metadata": {},
   "outputs": [
    {
     "name": "stdout",
     "output_type": "stream",
     "text": [
      "                    name episode location  sub_location  time\n",
      "2440  Daenerys Targaryen  S03E01  Astapor  Slaver's Bay    14\n"
     ]
    }
   ],
   "source": [
    "filtered_data = data[(data['location'] == \"Astapor\") & (data['sub_location'] == \"Slaver's Bay\")]\n",
    "print(filtered_data)"
   ]
  },
  {
   "cell_type": "code",
   "execution_count": 13,
   "metadata": {},
   "outputs": [],
   "source": [
    "data.loc[(data['location'] == \"Astapor\") & (data['sub_location'] == \"Slaver's Bay\"), 'sub_location'] = \"Astapor\""
   ]
  },
  {
   "cell_type": "code",
   "execution_count": 18,
   "metadata": {},
   "outputs": [
    {
     "name": "stdout",
     "output_type": "stream",
     "text": [
      "Empty DataFrame\n",
      "Columns: [name, episode, location, sub_location, time]\n",
      "Index: []\n"
     ]
    }
   ],
   "source": [
    "filtered_data = data[(data['location'] == \"Yunkai\") & (data['sub_location'] == \"Outside Yunkai\")]\n",
    "print(filtered_data)"
   ]
  },
  {
   "cell_type": "code",
   "execution_count": 17,
   "metadata": {},
   "outputs": [],
   "source": [
    "data.loc[(data['location'] == \"Yunkai\") & (data['sub_location'] == \"Outside Yunkai\"), 'sub_location'] = \"Yunkai\""
   ]
  },
  {
   "cell_type": "code",
   "execution_count": 25,
   "metadata": {},
   "outputs": [
    {
     "name": "stdout",
     "output_type": "stream",
     "text": [
      "Empty DataFrame\n",
      "Columns: [name, episode, location, sub_location, time]\n",
      "Index: []\n"
     ]
    }
   ],
   "source": [
    "filtered_data = data[(data['location'] == \"Meereen\") & (data['sub_location'] == \"Outside Meereen\")]\n",
    "print(filtered_data)"
   ]
  },
  {
   "cell_type": "code",
   "execution_count": 24,
   "metadata": {},
   "outputs": [],
   "source": [
    "data.loc[(data['location'] == \"Meereen\") & (data['sub_location'] == \"Outside Meereen\"), 'sub_location'] = \"Meereen\""
   ]
  },
  {
   "cell_type": "code",
   "execution_count": 28,
   "metadata": {},
   "outputs": [
    {
     "name": "stdout",
     "output_type": "stream",
     "text": [
      "                  name episode  location         sub_location  time\n",
      "6024     Jorah Mormont  S05E04  Volantis  Volantis to Valyria   207\n",
      "6025  Tyrion Lannister  S05E04  Volantis  Volantis to Valyria   207\n"
     ]
    }
   ],
   "source": [
    "filtered_data = data[(data['location'] == \"Volantis\") & (data['sub_location'] == \"Volantis to Valyria\")]\n",
    "print(filtered_data)"
   ]
  },
  {
   "cell_type": "code",
   "execution_count": 29,
   "metadata": {},
   "outputs": [
    {
     "name": "stdout",
     "output_type": "stream",
     "text": [
      "                  name episode location        sub_location  time\n",
      "5682  Tyrion Lannister  S05E02   Pentos  Pentos to Volantis   146\n",
      "5683        Lord Varys  S05E02   Pentos  Pentos to Volantis   146\n"
     ]
    }
   ],
   "source": [
    "filtered_data = data[(data['location'] == \"Pentos\") & (data['sub_location'] == \"Pentos to Volantis\")]\n",
    "print(filtered_data)"
   ]
  },
  {
   "cell_type": "code",
   "execution_count": 30,
   "metadata": {},
   "outputs": [
    {
     "name": "stdout",
     "output_type": "stream",
     "text": [
      "                    name episode location       sub_location  time\n",
      "5650        Ellaria Sand  S05E02    Dorne  The Water Gardens    29\n",
      "5651  Myrcella Baratheon  S05E02    Dorne  The Water Gardens    29\n",
      "5652    Trystane Martell  S05E02    Dorne  The Water Gardens    29\n",
      "5653        Ellaria Sand  S05E02    Dorne  The Water Gardens    63\n",
      "5654       Doran Martell  S05E02    Dorne  The Water Gardens    63\n",
      "5655          Areo Hotah  S05E02    Dorne  The Water Gardens    63\n",
      "5656        Ellaria Sand  S05E02    Dorne  The Water Gardens     4\n",
      "5657       Doran Martell  S05E02    Dorne  The Water Gardens     4\n",
      "5658  Myrcella Baratheon  S05E02    Dorne  The Water Gardens     4\n",
      "5659    Trystane Martell  S05E02    Dorne  The Water Gardens     4\n",
      "5660        Ellaria Sand  S05E02    Dorne  The Water Gardens    42\n",
      "5661       Doran Martell  S05E02    Dorne  The Water Gardens    42\n",
      "5662          Areo Hotah  S05E02    Dorne  The Water Gardens    42\n",
      "5663          Areo Hotah  S05E02    Dorne  The Water Gardens     7\n",
      "5664       Doran Martell  S05E02    Dorne  The Water Gardens     7\n",
      "6231    Trystane Martell  S05E06    Dorne  The Water Gardens    59\n",
      "6232  Myrcella Baratheon  S05E06    Dorne  The Water Gardens    59\n",
      "6233       Doran Martell  S05E06    Dorne  The Water Gardens    11\n",
      "6234          Areo Hotah  S05E06    Dorne  The Water Gardens    11\n",
      "6235    Trystane Martell  S05E06    Dorne  The Water Gardens    11\n",
      "6236  Myrcella Baratheon  S05E06    Dorne  The Water Gardens    11\n",
      "6237       Doran Martell  S05E06    Dorne  The Water Gardens    22\n",
      "6238          Areo Hotah  S05E06    Dorne  The Water Gardens    22\n",
      "6241     Jaime Lannister  S05E06    Dorne  The Water Gardens    13\n",
      "6242               Bronn  S05E06    Dorne  The Water Gardens    13\n",
      "6243        Ellaria Sand  S05E06    Dorne  The Water Gardens    24\n",
      "6244          Obara Sand  S05E06    Dorne  The Water Gardens    24\n",
      "6245          Tyene Sand  S05E06    Dorne  The Water Gardens    24\n",
      "6246        Nymeria Sand  S05E06    Dorne  The Water Gardens    24\n",
      "6247          Obara Sand  S05E06    Dorne  The Water Gardens    23\n",
      "6248          Tyene Sand  S05E06    Dorne  The Water Gardens    23\n",
      "6249        Nymeria Sand  S05E06    Dorne  The Water Gardens    23\n",
      "6250     Jaime Lannister  S05E06    Dorne  The Water Gardens    23\n",
      "6251               Bronn  S05E06    Dorne  The Water Gardens    23\n",
      "6252     Jaime Lannister  S05E06    Dorne  The Water Gardens    53\n",
      "6253               Bronn  S05E06    Dorne  The Water Gardens    53\n",
      "6254    Trystane Martell  S05E06    Dorne  The Water Gardens    53\n",
      "6255  Myrcella Baratheon  S05E06    Dorne  The Water Gardens    53\n",
      "6256     Jaime Lannister  S05E06    Dorne  The Water Gardens    64\n",
      "6257               Bronn  S05E06    Dorne  The Water Gardens    64\n",
      "6258    Trystane Martell  S05E06    Dorne  The Water Gardens    64\n",
      "6259  Myrcella Baratheon  S05E06    Dorne  The Water Gardens    64\n",
      "6260          Obara Sand  S05E06    Dorne  The Water Gardens    64\n",
      "6261          Tyene Sand  S05E06    Dorne  The Water Gardens    64\n",
      "6262        Nymeria Sand  S05E06    Dorne  The Water Gardens    64\n",
      "6263     Jaime Lannister  S05E06    Dorne  The Water Gardens    59\n",
      "6264               Bronn  S05E06    Dorne  The Water Gardens    59\n",
      "6265    Trystane Martell  S05E06    Dorne  The Water Gardens    59\n",
      "6266  Myrcella Baratheon  S05E06    Dorne  The Water Gardens    59\n",
      "6267          Obara Sand  S05E06    Dorne  The Water Gardens    59\n",
      "6268          Tyene Sand  S05E06    Dorne  The Water Gardens    59\n",
      "6269        Nymeria Sand  S05E06    Dorne  The Water Gardens    59\n",
      "6270          Areo Hotah  S05E06    Dorne  The Water Gardens    59\n",
      "6271        Ellaria Sand  S05E06    Dorne  The Water Gardens    12\n",
      "6386     Jaime Lannister  S05E07    Dorne  The Water Gardens    16\n",
      "6387          Areo Hotah  S05E07    Dorne  The Water Gardens    16\n",
      "6388  Myrcella Baratheon  S05E07    Dorne  The Water Gardens    16\n",
      "6389     Jaime Lannister  S05E07    Dorne  The Water Gardens    61\n",
      "6390  Myrcella Baratheon  S05E07    Dorne  The Water Gardens    61\n",
      "6391               Bronn  S05E07    Dorne  The Water Gardens   224\n",
      "6392          Obara Sand  S05E07    Dorne  The Water Gardens   224\n",
      "6393          Tyene Sand  S05E07    Dorne  The Water Gardens   224\n",
      "6394        Nymeria Sand  S05E07    Dorne  The Water Gardens   224\n",
      "6621     Jaime Lannister  S05E09    Dorne  The Water Gardens   182\n",
      "6622          Areo Hotah  S05E09    Dorne  The Water Gardens   182\n",
      "6623       Doran Martell  S05E09    Dorne  The Water Gardens   182\n",
      "6624        Ellaria Sand  S05E09    Dorne  The Water Gardens   182\n",
      "6625    Trystane Martell  S05E09    Dorne  The Water Gardens   182\n",
      "6626  Myrcella Baratheon  S05E09    Dorne  The Water Gardens   182\n",
      "6627     Jaime Lannister  S05E09    Dorne  The Water Gardens    42\n",
      "6628          Areo Hotah  S05E09    Dorne  The Water Gardens    42\n",
      "6629       Doran Martell  S05E09    Dorne  The Water Gardens    42\n",
      "6630    Trystane Martell  S05E09    Dorne  The Water Gardens    42\n",
      "6631  Myrcella Baratheon  S05E09    Dorne  The Water Gardens    42\n",
      "6632               Bronn  S05E09    Dorne  The Water Gardens    55\n",
      "6633          Obara Sand  S05E09    Dorne  The Water Gardens    55\n",
      "6634          Tyene Sand  S05E09    Dorne  The Water Gardens    55\n",
      "6635        Nymeria Sand  S05E09    Dorne  The Water Gardens    55\n",
      "6636               Bronn  S05E09    Dorne  The Water Gardens    31\n",
      "6637          Obara Sand  S05E09    Dorne  The Water Gardens    31\n",
      "6638          Tyene Sand  S05E09    Dorne  The Water Gardens    31\n",
      "6639        Nymeria Sand  S05E09    Dorne  The Water Gardens    31\n",
      "6640          Areo Hotah  S05E09    Dorne  The Water Gardens    31\n",
      "6641     Jaime Lannister  S05E09    Dorne  The Water Gardens    43\n",
      "6642          Areo Hotah  S05E09    Dorne  The Water Gardens    43\n",
      "6643       Doran Martell  S05E09    Dorne  The Water Gardens    43\n",
      "6644    Trystane Martell  S05E09    Dorne  The Water Gardens    43\n",
      "6645  Myrcella Baratheon  S05E09    Dorne  The Water Gardens    43\n",
      "6646               Bronn  S05E09    Dorne  The Water Gardens    43\n",
      "6687          Areo Hotah  S05E09    Dorne  The Water Gardens    60\n",
      "6688        Ellaria Sand  S05E09    Dorne  The Water Gardens    60\n",
      "6689       Doran Martell  S05E09    Dorne  The Water Gardens    60\n",
      "6690          Obara Sand  S05E09    Dorne  The Water Gardens    60\n",
      "6691          Tyene Sand  S05E09    Dorne  The Water Gardens    60\n",
      "6692        Nymeria Sand  S05E09    Dorne  The Water Gardens    60\n",
      "6693     Jaime Lannister  S05E09    Dorne  The Water Gardens   106\n",
      "6694        Ellaria Sand  S05E09    Dorne  The Water Gardens   106\n",
      "6976          Areo Hotah  S06E01    Dorne  The Water Gardens    42\n",
      "6977        Ellaria Sand  S06E01    Dorne  The Water Gardens    42\n",
      "6978       Doran Martell  S06E01    Dorne  The Water Gardens    42\n",
      "6979          Tyene Sand  S06E01    Dorne  The Water Gardens    42\n",
      "6980          Areo Hotah  S06E01    Dorne  The Water Gardens    40\n",
      "6981        Ellaria Sand  S06E01    Dorne  The Water Gardens    40\n",
      "6982       Doran Martell  S06E01    Dorne  The Water Gardens    40\n",
      "6983          Tyene Sand  S06E01    Dorne  The Water Gardens    40\n",
      "6984    Maester Caleotte  S06E01    Dorne  The Water Gardens    40\n",
      "6985        Ellaria Sand  S06E01    Dorne  The Water Gardens    53\n",
      "6986       Doran Martell  S06E01    Dorne  The Water Gardens    53\n",
      "6987          Tyene Sand  S06E01    Dorne  The Water Gardens    53\n",
      "8575        Ellaria Sand  S06E10    Dorne  The Water Gardens    83\n",
      "8576       Olenna Tyrell  S06E10    Dorne  The Water Gardens    83\n",
      "8577          Tyene Sand  S06E10    Dorne  The Water Gardens    83\n",
      "8578          Obara Sand  S06E10    Dorne  The Water Gardens    83\n",
      "8579        Nymeria Sand  S06E10    Dorne  The Water Gardens    83\n",
      "8580        Ellaria Sand  S06E10    Dorne  The Water Gardens    14\n",
      "8581       Olenna Tyrell  S06E10    Dorne  The Water Gardens    14\n",
      "8582          Tyene Sand  S06E10    Dorne  The Water Gardens    14\n",
      "8583          Obara Sand  S06E10    Dorne  The Water Gardens    14\n",
      "8584        Nymeria Sand  S06E10    Dorne  The Water Gardens    14\n",
      "8585          Lord Varys  S06E10    Dorne  The Water Gardens    14\n"
     ]
    }
   ],
   "source": [
    "filtered_data = data[(data['location'] == \"Dorne\") & (data['sub_location'] == \"The Water Gardens\")]\n",
    "print(filtered_data)"
   ]
  },
  {
   "cell_type": "code",
   "execution_count": 32,
   "metadata": {},
   "outputs": [
    {
     "name": "stdout",
     "output_type": "stream",
     "text": [
      "                  name episode location  sub_location  time\n",
      "7196      Arthur Dayne  S06E03    Dorne  Tower of Joy   165\n",
      "7197  Gerold Hightower  S06E03    Dorne  Tower of Joy   165\n",
      "7198  Three-Eyed Raven  S06E03    Dorne  Tower of Joy   165\n",
      "7199        Bran Stark  S06E03    Dorne  Tower of Joy   165\n",
      "7200   Young Ned Stark  S06E03    Dorne  Tower of Joy   165\n",
      "7201      Howland Reed  S06E03    Dorne  Tower of Joy   165\n",
      "7202      Arthur Dayne  S06E03    Dorne  Tower of Joy   121\n",
      "7203  Three-Eyed Raven  S06E03    Dorne  Tower of Joy   121\n",
      "7204        Bran Stark  S06E03    Dorne  Tower of Joy   121\n",
      "7205   Young Ned Stark  S06E03    Dorne  Tower of Joy   121\n",
      "7206      Howland Reed  S06E03    Dorne  Tower of Joy   121\n",
      "7207  Three-Eyed Raven  S06E03    Dorne  Tower of Joy    37\n",
      "7208        Bran Stark  S06E03    Dorne  Tower of Joy    37\n",
      "7209   Young Ned Stark  S06E03    Dorne  Tower of Joy    37\n",
      "7210      Howland Reed  S06E03    Dorne  Tower of Joy    37\n",
      "8603   Young Ned Stark  S06E10    Dorne  Tower of Joy    22\n",
      "8604        Bran Stark  S06E10    Dorne  Tower of Joy    22\n",
      "8605   Young Ned Stark  S06E10    Dorne  Tower of Joy    93\n",
      "8606        Bran Stark  S06E10    Dorne  Tower of Joy    93\n",
      "8607      Lyanna Stark  S06E10    Dorne  Tower of Joy    93\n",
      "8608   Young Ned Stark  S06E10    Dorne  Tower of Joy    39\n",
      "8609        Bran Stark  S06E10    Dorne  Tower of Joy    39\n",
      "8610      Lyanna Stark  S06E10    Dorne  Tower of Joy    39\n",
      "8611     Baby Jon Snow  S06E10    Dorne  Tower of Joy    39\n",
      "9960   Young Ned Stark  S07E07    Dorne  Tower of Joy    20\n",
      "9961        Bran Stark  S07E07    Dorne  Tower of Joy    20\n",
      "9962      Lyanna Stark  S07E07    Dorne  Tower of Joy    20\n"
     ]
    }
   ],
   "source": [
    "filtered_data = data[(data['location'] == \"Dorne\") & (data['sub_location'] == \"Tower of Joy\")]\n",
    "print(filtered_data)"
   ]
  },
  {
   "cell_type": "code",
   "execution_count": 31,
   "metadata": {},
   "outputs": [
    {
     "name": "stdout",
     "output_type": "stream",
     "text": [
      "                    name episode location sub_location  time\n",
      "6004     Jaime Lannister  S05E04    Dorne        Dorne    36\n",
      "6005               Bronn  S05E04    Dorne        Dorne    36\n",
      "6006     Jaime Lannister  S05E04    Dorne        Dorne    90\n",
      "6007               Bronn  S05E04    Dorne        Dorne    90\n",
      "6008     Jaime Lannister  S05E04    Dorne        Dorne    35\n",
      "6009               Bronn  S05E04    Dorne        Dorne    35\n",
      "6010     Jaime Lannister  S05E04    Dorne        Dorne   182\n",
      "6011               Bronn  S05E04    Dorne        Dorne   182\n",
      "6012  Lead Dornish Guard  S05E04    Dorne        Dorne   182\n",
      "6013     Jaime Lannister  S05E04    Dorne        Dorne    46\n",
      "6014               Bronn  S05E04    Dorne        Dorne    46\n",
      "6015        Ellaria Sand  S05E04    Dorne        Dorne    50\n",
      "6016          Obara Sand  S05E04    Dorne        Dorne    50\n",
      "6017          Tyene Sand  S05E04    Dorne        Dorne    50\n",
      "6018        Nymeria Sand  S05E04    Dorne        Dorne    50\n",
      "6019        Ellaria Sand  S05E04    Dorne        Dorne    84\n",
      "6020          Obara Sand  S05E04    Dorne        Dorne    84\n",
      "6021          Tyene Sand  S05E04    Dorne        Dorne    84\n",
      "6022        Nymeria Sand  S05E04    Dorne        Dorne    84\n",
      "6023    Merchant Captain  S05E04    Dorne        Dorne    84\n",
      "6239     Jaime Lannister  S05E06    Dorne        Dorne    52\n",
      "6240               Bronn  S05E06    Dorne        Dorne    52\n",
      "6829       Doran Martell  S05E10    Dorne        Dorne    63\n",
      "6830  Myrcella Baratheon  S05E10    Dorne        Dorne    63\n",
      "6831          Areo Hotah  S05E10    Dorne        Dorne    63\n",
      "6832          Obara Sand  S05E10    Dorne        Dorne    63\n",
      "6833          Tyene Sand  S05E10    Dorne        Dorne    63\n",
      "6834        Nymeria Sand  S05E10    Dorne        Dorne    63\n",
      "6835               Bronn  S05E10    Dorne        Dorne    63\n",
      "6836    Trystane Martell  S05E10    Dorne        Dorne    63\n",
      "6837     Jaime Lannister  S05E10    Dorne        Dorne    63\n",
      "6838        Ellaria Sand  S05E10    Dorne        Dorne    63\n",
      "6839  Myrcella Baratheon  S05E10    Dorne        Dorne   189\n",
      "6840     Jaime Lannister  S05E10    Dorne        Dorne   189\n",
      "6841        Ellaria Sand  S05E10    Dorne        Dorne    50\n",
      "6842          Obara Sand  S05E10    Dorne        Dorne    50\n",
      "6843          Tyene Sand  S05E10    Dorne        Dorne    50\n",
      "6844        Nymeria Sand  S05E10    Dorne        Dorne    50\n",
      "9952          Bran Stark  S07E07    Dorne        Dorne    30\n",
      "9953        Lyanna Stark  S07E07    Dorne        Dorne    30\n",
      "9954   Rhaegar Targaryen  S07E07    Dorne        Dorne    30\n",
      "9955         High Septon  S07E07    Dorne        Dorne    30\n"
     ]
    }
   ],
   "source": [
    "filtered_data = data[(data['location'] == \"Dorne\") & (data['sub_location'] == \"Dorne\")]\n",
    "print(filtered_data)"
   ]
  },
  {
   "cell_type": "code",
   "execution_count": 40,
   "metadata": {},
   "outputs": [
    {
     "name": "stdout",
     "output_type": "stream",
     "text": [
      "Empty DataFrame\n",
      "Columns: [name, episode, location, sub_location, time]\n",
      "Index: []\n"
     ]
    }
   ],
   "source": [
    "filtered_data = data[(data['location'] == \"The Reach\") & (data['sub_location'] == \"To Horn Hill\")]\n",
    "print(filtered_data)"
   ]
  },
  {
   "cell_type": "code",
   "execution_count": 39,
   "metadata": {},
   "outputs": [],
   "source": [
    "data.loc[(data['location'] == \"The Reach\") & (data['sub_location'] == \"To Horn Hill\"), 'sub_location'] = \"Horn Hill\""
   ]
  },
  {
   "cell_type": "code",
   "execution_count": 41,
   "metadata": {},
   "outputs": [
    {
     "name": "stdout",
     "output_type": "stream",
     "text": [
      "                 name episode   location sub_location  time\n",
      "9025  Jaime Lannister  S07E03  The Reach   Highgarden    14\n",
      "9026  Jaime Lannister  S07E03  The Reach   Highgarden    19\n",
      "9027            Bronn  S07E03  The Reach   Highgarden    19\n",
      "9028    Randyll Tarly  S07E03  The Reach   Highgarden    19\n",
      "9029     Dickon Tarly  S07E03  The Reach   Highgarden    19\n",
      "9030    Olenna Tyrell  S07E03  The Reach   Highgarden    20\n",
      "9031  Jaime Lannister  S07E03  The Reach   Highgarden    25\n",
      "9032    Olenna Tyrell  S07E03  The Reach   Highgarden   334\n",
      "9033  Jaime Lannister  S07E03  The Reach   Highgarden   334\n",
      "9034  Jaime Lannister  S07E04  The Reach   Highgarden     6\n",
      "9035  Jaime Lannister  S07E04  The Reach   Highgarden    82\n",
      "9036            Bronn  S07E04  The Reach   Highgarden    82\n",
      "9037  Jaime Lannister  S07E04  The Reach   Highgarden   117\n",
      "9038            Bronn  S07E04  The Reach   Highgarden   117\n",
      "9039    Randyll Tarly  S07E04  The Reach   Highgarden   117\n",
      "9040     Dickon Tarly  S07E04  The Reach   Highgarden   117\n"
     ]
    }
   ],
   "source": [
    "filtered_data = data[(data['location'] == \"The Reach\") & (data['sub_location'] == \"Highgarden\")]\n",
    "print(filtered_data)"
   ]
  },
  {
   "cell_type": "code",
   "execution_count": 47,
   "metadata": {},
   "outputs": [
    {
     "name": "stdout",
     "output_type": "stream",
     "text": [
      "Empty DataFrame\n",
      "Columns: [name, episode, location, sub_location, time]\n",
      "Index: []\n"
     ]
    }
   ],
   "source": [
    "filtered_data = data[(data['location'] == \"The Reach\") & (data['sub_location'] == \"The Reach\")]\n",
    "print(filtered_data)"
   ]
  },
  {
   "cell_type": "code",
   "execution_count": 48,
   "metadata": {},
   "outputs": [
    {
     "name": "stdout",
     "output_type": "stream",
     "text": [
      "                     name episode        location sub_location  time\n",
      "1264      Renly Baratheon  S02E03  The Stormlands  Storm's End   248\n",
      "1265      Margaery Tyrell  S02E03  The Stormlands  Storm's End   248\n",
      "1266     Brienne of Tarth  S02E03  The Stormlands  Storm's End   248\n",
      "1267        Catelyn Stark  S02E03  The Stormlands  Storm's End   248\n",
      "1268         Loras Tyrell  S02E03  The Stormlands  Storm's End   248\n",
      "1269  Colen of Greenpools  S02E03  The Stormlands  Storm's End   248\n",
      "1270        Catelyn Stark  S02E03  The Stormlands  Storm's End    55\n",
      "1271      Renly Baratheon  S02E03  The Stormlands  Storm's End    55\n",
      "1272     Brienne of Tarth  S02E03  The Stormlands  Storm's End    55\n",
      "1273               Gerard  S02E03  The Stormlands  Storm's End    55\n",
      "1274     Brienne of Tarth  S02E03  The Stormlands  Storm's End    26\n",
      "1275        Catelyn Stark  S02E03  The Stormlands  Storm's End    26\n",
      "1295      Renly Baratheon  S02E03  The Stormlands  Storm's End   125\n",
      "1296         Loras Tyrell  S02E03  The Stormlands  Storm's End   125\n",
      "1297      Renly Baratheon  S02E03  The Stormlands  Storm's End   193\n",
      "1298      Margaery Tyrell  S02E03  The Stormlands  Storm's End   193\n",
      "1375      Renly Baratheon  S02E04  The Stormlands  Storm's End    13\n",
      "1376     Brienne of Tarth  S02E04  The Stormlands  Storm's End    13\n",
      "1377        Petyr Baelish  S02E04  The Stormlands  Storm's End    13\n",
      "1378      Renly Baratheon  S02E04  The Stormlands  Storm's End    95\n",
      "1379     Brienne of Tarth  S02E04  The Stormlands  Storm's End    95\n",
      "1380        Petyr Baelish  S02E04  The Stormlands  Storm's End    95\n",
      "1381        Petyr Baelish  S02E04  The Stormlands  Storm's End    36\n",
      "1382      Margaery Tyrell  S02E04  The Stormlands  Storm's End    36\n",
      "1383         Loras Tyrell  S02E04  The Stormlands  Storm's End    36\n",
      "1384      Margaery Tyrell  S02E04  The Stormlands  Storm's End    77\n",
      "1385        Petyr Baelish  S02E04  The Stormlands  Storm's End    77\n",
      "1398        Catelyn Stark  S02E04  The Stormlands  Storm's End   228\n",
      "1399        Petyr Baelish  S02E04  The Stormlands  Storm's End   228\n",
      "1413      Renly Baratheon  S02E04  The Stormlands  Storm's End   193\n",
      "1414        Catelyn Stark  S02E04  The Stormlands  Storm's End   193\n",
      "1415     Brienne of Tarth  S02E04  The Stormlands  Storm's End   193\n",
      "1416    Stannis Baratheon  S02E04  The Stormlands  Storm's End   193\n",
      "1417       Davos Seaworth  S02E04  The Stormlands  Storm's End   193\n",
      "1418           Melisandre  S02E04  The Stormlands  Storm's End   193\n",
      "1419         Loras Tyrell  S02E04  The Stormlands  Storm's End   193\n",
      "1441    Stannis Baratheon  S02E04  The Stormlands  Storm's End   113\n",
      "1442       Davos Seaworth  S02E04  The Stormlands  Storm's End   113\n",
      "1443           Melisandre  S02E04  The Stormlands  Storm's End    68\n",
      "1444       Davos Seaworth  S02E04  The Stormlands  Storm's End    68\n",
      "1445           Melisandre  S02E04  The Stormlands  Storm's End   156\n",
      "1446       Davos Seaworth  S02E04  The Stormlands  Storm's End   156\n",
      "1447        Catelyn Stark  S02E05  The Stormlands  Storm's End   203\n",
      "1448     Brienne of Tarth  S02E05  The Stormlands  Storm's End   203\n",
      "1449      Renly Baratheon  S02E05  The Stormlands  Storm's End   203\n",
      "1450        Petyr Baelish  S02E05  The Stormlands  Storm's End    17\n",
      "1451         Loras Tyrell  S02E05  The Stormlands  Storm's End   149\n",
      "1452      Renly Baratheon  S02E05  The Stormlands  Storm's End   149\n",
      "1453      Margaery Tyrell  S02E05  The Stormlands  Storm's End   149\n",
      "1454        Petyr Baelish  S02E05  The Stormlands  Storm's End   149\n",
      "1461       Davos Seaworth  S02E05  The Stormlands  Storm's End    25\n",
      "1462    Stannis Baratheon  S02E05  The Stormlands  Storm's End    25\n",
      "1463       Davos Seaworth  S02E05  The Stormlands  Storm's End   138\n",
      "1464    Stannis Baratheon  S02E05  The Stormlands  Storm's End   138\n"
     ]
    }
   ],
   "source": [
    "filtered_data = data[(data['location'] == \"The Stormlands\") & (data['sub_location'] == \"Storm's End\")]\n",
    "print(filtered_data)"
   ]
  },
  {
   "cell_type": "code",
   "execution_count": 51,
   "metadata": {},
   "outputs": [
    {
     "name": "stdout",
     "output_type": "stream",
     "text": [
      "Empty DataFrame\n",
      "Columns: [name, episode, location, sub_location, time]\n",
      "Index: []\n"
     ]
    }
   ],
   "source": [
    "filtered_data = data[(data['location'] == \"The Stormlands\") & (data['sub_location'] == \"The Woods\")]\n",
    "print(filtered_data)"
   ]
  },
  {
   "cell_type": "code",
   "execution_count": 50,
   "metadata": {},
   "outputs": [],
   "source": [
    "data.loc[(data['location'] == \"The Stormlands\") & (data['sub_location'] == \"The Woods\"), 'sub_location'] = \"Storm's End\""
   ]
  },
  {
   "cell_type": "code",
   "execution_count": 52,
   "metadata": {},
   "outputs": [
    {
     "name": "stdout",
     "output_type": "stream",
     "text": [
      "                  name episode        location sub_location  time\n",
      "5933   Jaime Lannister  S05E04  The Stormlands        Tarth    25\n",
      "5934  Merchant Captain  S05E04  The Stormlands        Tarth    25\n",
      "5935   Jaime Lannister  S05E04  The Stormlands        Tarth   144\n",
      "5936             Bronn  S05E04  The Stormlands        Tarth   144\n"
     ]
    }
   ],
   "source": [
    "filtered_data = data[(data['location'] == \"The Stormlands\") & (data['sub_location'] == \"Tarth\")]\n",
    "print(filtered_data)"
   ]
  },
  {
   "cell_type": "code",
   "execution_count": 53,
   "metadata": {},
   "outputs": [
    {
     "name": "stdout",
     "output_type": "stream",
     "text": [
      "Empty DataFrame\n",
      "Columns: [name, episode, location, sub_location, time]\n",
      "Index: []\n"
     ]
    }
   ],
   "source": [
    "filtered_data = data[(data['location'] == \"The Stormlands\") & (data['sub_location'] == \"The Stormlands\")]\n",
    "print(filtered_data)"
   ]
  },
  {
   "cell_type": "code",
   "execution_count": 54,
   "metadata": {},
   "outputs": [
    {
     "name": "stdout",
     "output_type": "stream",
     "text": [
      "                 name episode        location   sub_location  time\n",
      "597  Robert Baratheon  S01E06  The Crownlands  The Kingswood   113\n",
      "598  Lancel Lannister  S01E06  The Crownlands  The Kingswood   113\n",
      "599   Renly Baratheon  S01E06  The Crownlands  The Kingswood   113\n",
      "600   Barristan Selmy  S01E06  The Crownlands  The Kingswood   113\n"
     ]
    }
   ],
   "source": [
    "filtered_data = data[(data['location'] == \"The Crownlands\") & (data['sub_location'] == \"The Kingswood\")]\n",
    "print(filtered_data)"
   ]
  },
  {
   "cell_type": "code",
   "execution_count": 55,
   "metadata": {},
   "outputs": [
    {
     "name": "stdout",
     "output_type": "stream",
     "text": [
      "                     name episode        location            sub_location  \\\n",
      "6272        Olenna Tyrell  S05E06  The Crownlands  Outside King's Landing   \n",
      "9708     Tyrion Lannister  S07E07  The Crownlands  Outside King's Landing   \n",
      "9709             Jon Snow  S07E07  The Crownlands  Outside King's Landing   \n",
      "9710       Davos Seaworth  S07E07  The Crownlands  Outside King's Landing   \n",
      "9711        Jorah Mormont  S07E07  The Crownlands  Outside King's Landing   \n",
      "9712            Missandei  S07E07  The Crownlands  Outside King's Landing   \n",
      "9713           Lord Varys  S07E07  The Crownlands  Outside King's Landing   \n",
      "9714        Theon Greyjoy  S07E07  The Crownlands  Outside King's Landing   \n",
      "9715                Qhono  S07E07  The Crownlands  Outside King's Landing   \n",
      "9716       Sandor Clegane  S07E07  The Crownlands  Outside King's Landing   \n",
      "9717     Tyrion Lannister  S07E07  The Crownlands  Outside King's Landing   \n",
      "9718             Jon Snow  S07E07  The Crownlands  Outside King's Landing   \n",
      "9719       Davos Seaworth  S07E07  The Crownlands  Outside King's Landing   \n",
      "9720        Jorah Mormont  S07E07  The Crownlands  Outside King's Landing   \n",
      "9721            Missandei  S07E07  The Crownlands  Outside King's Landing   \n",
      "9722           Lord Varys  S07E07  The Crownlands  Outside King's Landing   \n",
      "9723        Theon Greyjoy  S07E07  The Crownlands  Outside King's Landing   \n",
      "9724                Qhono  S07E07  The Crownlands  Outside King's Landing   \n",
      "9725       Sandor Clegane  S07E07  The Crownlands  Outside King's Landing   \n",
      "9726                Bronn  S07E07  The Crownlands  Outside King's Landing   \n",
      "9727        Podrick Payne  S07E07  The Crownlands  Outside King's Landing   \n",
      "9728     Brienne of Tarth  S07E07  The Crownlands  Outside King's Landing   \n",
      "9729     Tyrion Lannister  S07E07  The Crownlands  Outside King's Landing   \n",
      "9730                Bronn  S07E07  The Crownlands  Outside King's Landing   \n",
      "9731        Podrick Payne  S07E07  The Crownlands  Outside King's Landing   \n",
      "9732       Sandor Clegane  S07E07  The Crownlands  Outside King's Landing   \n",
      "9733     Brienne of Tarth  S07E07  The Crownlands  Outside King's Landing   \n",
      "9734     Tyrion Lannister  S07E07  The Crownlands  Outside King's Landing   \n",
      "9735             Jon Snow  S07E07  The Crownlands  Outside King's Landing   \n",
      "9736       Davos Seaworth  S07E07  The Crownlands  Outside King's Landing   \n",
      "9737        Jorah Mormont  S07E07  The Crownlands  Outside King's Landing   \n",
      "9738            Missandei  S07E07  The Crownlands  Outside King's Landing   \n",
      "9739           Lord Varys  S07E07  The Crownlands  Outside King's Landing   \n",
      "9740        Theon Greyjoy  S07E07  The Crownlands  Outside King's Landing   \n",
      "9741                Qhono  S07E07  The Crownlands  Outside King's Landing   \n",
      "9742       Sandor Clegane  S07E07  The Crownlands  Outside King's Landing   \n",
      "9743                Bronn  S07E07  The Crownlands  Outside King's Landing   \n",
      "9744        Podrick Payne  S07E07  The Crownlands  Outside King's Landing   \n",
      "9745     Brienne of Tarth  S07E07  The Crownlands  Outside King's Landing   \n",
      "9746       Sandor Clegane  S07E07  The Crownlands  Outside King's Landing   \n",
      "9747     Tyrion Lannister  S07E07  The Crownlands  Outside King's Landing   \n",
      "9748             Jon Snow  S07E07  The Crownlands  Outside King's Landing   \n",
      "9749       Davos Seaworth  S07E07  The Crownlands  Outside King's Landing   \n",
      "9750        Jorah Mormont  S07E07  The Crownlands  Outside King's Landing   \n",
      "9751            Missandei  S07E07  The Crownlands  Outside King's Landing   \n",
      "9752           Lord Varys  S07E07  The Crownlands  Outside King's Landing   \n",
      "9753        Theon Greyjoy  S07E07  The Crownlands  Outside King's Landing   \n",
      "9754                Qhono  S07E07  The Crownlands  Outside King's Landing   \n",
      "9755       Sandor Clegane  S07E07  The Crownlands  Outside King's Landing   \n",
      "9756                Bronn  S07E07  The Crownlands  Outside King's Landing   \n",
      "9757        Podrick Payne  S07E07  The Crownlands  Outside King's Landing   \n",
      "9758     Brienne of Tarth  S07E07  The Crownlands  Outside King's Landing   \n",
      "9759     Tyrion Lannister  S07E07  The Crownlands  Outside King's Landing   \n",
      "9760             Jon Snow  S07E07  The Crownlands  Outside King's Landing   \n",
      "9761       Davos Seaworth  S07E07  The Crownlands  Outside King's Landing   \n",
      "9762        Jorah Mormont  S07E07  The Crownlands  Outside King's Landing   \n",
      "9763            Missandei  S07E07  The Crownlands  Outside King's Landing   \n",
      "9764           Lord Varys  S07E07  The Crownlands  Outside King's Landing   \n",
      "9765        Theon Greyjoy  S07E07  The Crownlands  Outside King's Landing   \n",
      "9766                Qhono  S07E07  The Crownlands  Outside King's Landing   \n",
      "9767       Sandor Clegane  S07E07  The Crownlands  Outside King's Landing   \n",
      "9768     Brienne of Tarth  S07E07  The Crownlands  Outside King's Landing   \n",
      "9769     Tyrion Lannister  S07E07  The Crownlands  Outside King's Landing   \n",
      "9770             Jon Snow  S07E07  The Crownlands  Outside King's Landing   \n",
      "9771       Davos Seaworth  S07E07  The Crownlands  Outside King's Landing   \n",
      "9772        Jorah Mormont  S07E07  The Crownlands  Outside King's Landing   \n",
      "9773            Missandei  S07E07  The Crownlands  Outside King's Landing   \n",
      "9774           Lord Varys  S07E07  The Crownlands  Outside King's Landing   \n",
      "9775        Theon Greyjoy  S07E07  The Crownlands  Outside King's Landing   \n",
      "9776                Qhono  S07E07  The Crownlands  Outside King's Landing   \n",
      "9777       Sandor Clegane  S07E07  The Crownlands  Outside King's Landing   \n",
      "9778     Brienne of Tarth  S07E07  The Crownlands  Outside King's Landing   \n",
      "9779     Cersei Lannister  S07E07  The Crownlands  Outside King's Landing   \n",
      "9780               Qyburn  S07E07  The Crownlands  Outside King's Landing   \n",
      "9781      Jaime Lannister  S07E07  The Crownlands  Outside King's Landing   \n",
      "9782       Gregor Clegane  S07E07  The Crownlands  Outside King's Landing   \n",
      "9783        Euron Greyjoy  S07E07  The Crownlands  Outside King's Landing   \n",
      "9784     Tyrion Lannister  S07E07  The Crownlands  Outside King's Landing   \n",
      "9785             Jon Snow  S07E07  The Crownlands  Outside King's Landing   \n",
      "9786       Davos Seaworth  S07E07  The Crownlands  Outside King's Landing   \n",
      "9787        Jorah Mormont  S07E07  The Crownlands  Outside King's Landing   \n",
      "9788            Missandei  S07E07  The Crownlands  Outside King's Landing   \n",
      "9789           Lord Varys  S07E07  The Crownlands  Outside King's Landing   \n",
      "9790        Theon Greyjoy  S07E07  The Crownlands  Outside King's Landing   \n",
      "9791                Qhono  S07E07  The Crownlands  Outside King's Landing   \n",
      "9792     Brienne of Tarth  S07E07  The Crownlands  Outside King's Landing   \n",
      "9793     Cersei Lannister  S07E07  The Crownlands  Outside King's Landing   \n",
      "9794               Qyburn  S07E07  The Crownlands  Outside King's Landing   \n",
      "9795      Jaime Lannister  S07E07  The Crownlands  Outside King's Landing   \n",
      "9796       Gregor Clegane  S07E07  The Crownlands  Outside King's Landing   \n",
      "9797        Euron Greyjoy  S07E07  The Crownlands  Outside King's Landing   \n",
      "9798     Tyrion Lannister  S07E07  The Crownlands  Outside King's Landing   \n",
      "9799             Jon Snow  S07E07  The Crownlands  Outside King's Landing   \n",
      "9800       Davos Seaworth  S07E07  The Crownlands  Outside King's Landing   \n",
      "9801        Jorah Mormont  S07E07  The Crownlands  Outside King's Landing   \n",
      "9802            Missandei  S07E07  The Crownlands  Outside King's Landing   \n",
      "9803           Lord Varys  S07E07  The Crownlands  Outside King's Landing   \n",
      "9804        Theon Greyjoy  S07E07  The Crownlands  Outside King's Landing   \n",
      "9805                Qhono  S07E07  The Crownlands  Outside King's Landing   \n",
      "9806     Brienne of Tarth  S07E07  The Crownlands  Outside King's Landing   \n",
      "9807     Cersei Lannister  S07E07  The Crownlands  Outside King's Landing   \n",
      "9808               Qyburn  S07E07  The Crownlands  Outside King's Landing   \n",
      "9809      Jaime Lannister  S07E07  The Crownlands  Outside King's Landing   \n",
      "9810       Gregor Clegane  S07E07  The Crownlands  Outside King's Landing   \n",
      "9811        Euron Greyjoy  S07E07  The Crownlands  Outside King's Landing   \n",
      "9812   Daenerys Targaryen  S07E07  The Crownlands  Outside King's Landing   \n",
      "9813               Drogon  S07E07  The Crownlands  Outside King's Landing   \n",
      "9814              Rhaegal  S07E07  The Crownlands  Outside King's Landing   \n",
      "9815     Tyrion Lannister  S07E07  The Crownlands  Outside King's Landing   \n",
      "9816             Jon Snow  S07E07  The Crownlands  Outside King's Landing   \n",
      "9817       Davos Seaworth  S07E07  The Crownlands  Outside King's Landing   \n",
      "9818        Jorah Mormont  S07E07  The Crownlands  Outside King's Landing   \n",
      "9819            Missandei  S07E07  The Crownlands  Outside King's Landing   \n",
      "9820           Lord Varys  S07E07  The Crownlands  Outside King's Landing   \n",
      "9821        Theon Greyjoy  S07E07  The Crownlands  Outside King's Landing   \n",
      "9822                Qhono  S07E07  The Crownlands  Outside King's Landing   \n",
      "9823     Brienne of Tarth  S07E07  The Crownlands  Outside King's Landing   \n",
      "9824     Cersei Lannister  S07E07  The Crownlands  Outside King's Landing   \n",
      "9825               Qyburn  S07E07  The Crownlands  Outside King's Landing   \n",
      "9826      Jaime Lannister  S07E07  The Crownlands  Outside King's Landing   \n",
      "9827       Gregor Clegane  S07E07  The Crownlands  Outside King's Landing   \n",
      "9828        Euron Greyjoy  S07E07  The Crownlands  Outside King's Landing   \n",
      "9829   Daenerys Targaryen  S07E07  The Crownlands  Outside King's Landing   \n",
      "9830     Tyrion Lannister  S07E07  The Crownlands  Outside King's Landing   \n",
      "9831             Jon Snow  S07E07  The Crownlands  Outside King's Landing   \n",
      "9832       Davos Seaworth  S07E07  The Crownlands  Outside King's Landing   \n",
      "9833        Jorah Mormont  S07E07  The Crownlands  Outside King's Landing   \n",
      "9834            Missandei  S07E07  The Crownlands  Outside King's Landing   \n",
      "9835           Lord Varys  S07E07  The Crownlands  Outside King's Landing   \n",
      "9836        Theon Greyjoy  S07E07  The Crownlands  Outside King's Landing   \n",
      "9837                Qhono  S07E07  The Crownlands  Outside King's Landing   \n",
      "9838     Brienne of Tarth  S07E07  The Crownlands  Outside King's Landing   \n",
      "9839     Cersei Lannister  S07E07  The Crownlands  Outside King's Landing   \n",
      "9840               Qyburn  S07E07  The Crownlands  Outside King's Landing   \n",
      "9841      Jaime Lannister  S07E07  The Crownlands  Outside King's Landing   \n",
      "9842       Gregor Clegane  S07E07  The Crownlands  Outside King's Landing   \n",
      "9843        Euron Greyjoy  S07E07  The Crownlands  Outside King's Landing   \n",
      "9844   Daenerys Targaryen  S07E07  The Crownlands  Outside King's Landing   \n",
      "9845       Sandor Clegane  S07E07  The Crownlands  Outside King's Landing   \n",
      "9846     Tyrion Lannister  S07E07  The Crownlands  Outside King's Landing   \n",
      "9847             Jon Snow  S07E07  The Crownlands  Outside King's Landing   \n",
      "9848       Davos Seaworth  S07E07  The Crownlands  Outside King's Landing   \n",
      "9849        Jorah Mormont  S07E07  The Crownlands  Outside King's Landing   \n",
      "9850            Missandei  S07E07  The Crownlands  Outside King's Landing   \n",
      "9851           Lord Varys  S07E07  The Crownlands  Outside King's Landing   \n",
      "9852        Theon Greyjoy  S07E07  The Crownlands  Outside King's Landing   \n",
      "9853                Qhono  S07E07  The Crownlands  Outside King's Landing   \n",
      "9854     Brienne of Tarth  S07E07  The Crownlands  Outside King's Landing   \n",
      "9855     Cersei Lannister  S07E07  The Crownlands  Outside King's Landing   \n",
      "9856               Qyburn  S07E07  The Crownlands  Outside King's Landing   \n",
      "9857      Jaime Lannister  S07E07  The Crownlands  Outside King's Landing   \n",
      "9858       Gregor Clegane  S07E07  The Crownlands  Outside King's Landing   \n",
      "9859   Daenerys Targaryen  S07E07  The Crownlands  Outside King's Landing   \n",
      "9860       Sandor Clegane  S07E07  The Crownlands  Outside King's Landing   \n",
      "9861     Tyrion Lannister  S07E07  The Crownlands  Outside King's Landing   \n",
      "9862             Jon Snow  S07E07  The Crownlands  Outside King's Landing   \n",
      "9863       Davos Seaworth  S07E07  The Crownlands  Outside King's Landing   \n",
      "9864        Jorah Mormont  S07E07  The Crownlands  Outside King's Landing   \n",
      "9865            Missandei  S07E07  The Crownlands  Outside King's Landing   \n",
      "9866           Lord Varys  S07E07  The Crownlands  Outside King's Landing   \n",
      "9867        Theon Greyjoy  S07E07  The Crownlands  Outside King's Landing   \n",
      "9868                Qhono  S07E07  The Crownlands  Outside King's Landing   \n",
      "9869     Brienne of Tarth  S07E07  The Crownlands  Outside King's Landing   \n",
      "9870   Daenerys Targaryen  S07E07  The Crownlands  Outside King's Landing   \n",
      "9871       Sandor Clegane  S07E07  The Crownlands  Outside King's Landing   \n",
      "9880             Jon Snow  S07E07  The Crownlands  Outside King's Landing   \n",
      "9881   Daenerys Targaryen  S07E07  The Crownlands  Outside King's Landing   \n",
      "9882     Tyrion Lannister  S07E07  The Crownlands  Outside King's Landing   \n",
      "9883             Jon Snow  S07E07  The Crownlands  Outside King's Landing   \n",
      "9884       Davos Seaworth  S07E07  The Crownlands  Outside King's Landing   \n",
      "9885        Jorah Mormont  S07E07  The Crownlands  Outside King's Landing   \n",
      "9886            Missandei  S07E07  The Crownlands  Outside King's Landing   \n",
      "9887           Lord Varys  S07E07  The Crownlands  Outside King's Landing   \n",
      "9888        Theon Greyjoy  S07E07  The Crownlands  Outside King's Landing   \n",
      "9889                Qhono  S07E07  The Crownlands  Outside King's Landing   \n",
      "9890     Brienne of Tarth  S07E07  The Crownlands  Outside King's Landing   \n",
      "9891   Daenerys Targaryen  S07E07  The Crownlands  Outside King's Landing   \n",
      "9892       Sandor Clegane  S07E07  The Crownlands  Outside King's Landing   \n",
      "9893     Tyrion Lannister  S07E07  The Crownlands  Outside King's Landing   \n",
      "9894             Jon Snow  S07E07  The Crownlands  Outside King's Landing   \n",
      "9895       Davos Seaworth  S07E07  The Crownlands  Outside King's Landing   \n",
      "9896        Jorah Mormont  S07E07  The Crownlands  Outside King's Landing   \n",
      "9897            Missandei  S07E07  The Crownlands  Outside King's Landing   \n",
      "9898           Lord Varys  S07E07  The Crownlands  Outside King's Landing   \n",
      "9899        Theon Greyjoy  S07E07  The Crownlands  Outside King's Landing   \n",
      "9900                Qhono  S07E07  The Crownlands  Outside King's Landing   \n",
      "9901     Brienne of Tarth  S07E07  The Crownlands  Outside King's Landing   \n",
      "9902   Daenerys Targaryen  S07E07  The Crownlands  Outside King's Landing   \n",
      "9903       Sandor Clegane  S07E07  The Crownlands  Outside King's Landing   \n",
      "9904     Cersei Lannister  S07E07  The Crownlands  Outside King's Landing   \n",
      "9905               Qyburn  S07E07  The Crownlands  Outside King's Landing   \n",
      "9906      Jaime Lannister  S07E07  The Crownlands  Outside King's Landing   \n",
      "9907       Gregor Clegane  S07E07  The Crownlands  Outside King's Landing   \n",
      "9945      Jaime Lannister  S07E07  The Crownlands  Outside King's Landing   \n",
      "11981    Tyrion Lannister  S08E06  The Crownlands  Outside King's Landing   \n",
      "11982    Tyrion Lannister  S08E06  The Crownlands  Outside King's Landing   \n",
      "11983           Grey Worm  S08E06  The Crownlands  Outside King's Landing   \n",
      "11984    Tyrion Lannister  S08E06  The Crownlands  Outside King's Landing   \n",
      "11985           Grey Worm  S08E06  The Crownlands  Outside King's Landing   \n",
      "11986       Samwell Tarly  S08E06  The Crownlands  Outside King's Landing   \n",
      "11987        Edmure Tully  S08E06  The Crownlands  Outside King's Landing   \n",
      "11988          Arya Stark  S08E06  The Crownlands  Outside King's Landing   \n",
      "11989          Bran Stark  S08E06  The Crownlands  Outside King's Landing   \n",
      "11990         Sansa Stark  S08E06  The Crownlands  Outside King's Landing   \n",
      "11991    Brienne of Tarth  S08E06  The Crownlands  Outside King's Landing   \n",
      "11992      Davos Seaworth  S08E06  The Crownlands  Outside King's Landing   \n",
      "11993              Gendry  S08E06  The Crownlands  Outside King's Landing   \n",
      "11994        Yara Greyjoy  S08E06  The Crownlands  Outside King's Landing   \n",
      "11995         Robin Arryn  S08E06  The Crownlands  Outside King's Landing   \n",
      "11996          Yohn Royce  S08E06  The Crownlands  Outside King's Landing   \n",
      "11997        Dornish Lord  S08E06  The Crownlands  Outside King's Landing   \n",
      "11998             Lord #1  S08E06  The Crownlands  Outside King's Landing   \n",
      "11999             Lord #2  S08E06  The Crownlands  Outside King's Landing   \n",
      "12000             Lord #3  S08E06  The Crownlands  Outside King's Landing   \n",
      "12001             Lord #4  S08E06  The Crownlands  Outside King's Landing   \n",
      "12002    Tyrion Lannister  S08E06  The Crownlands  Outside King's Landing   \n",
      "12003           Grey Worm  S08E06  The Crownlands  Outside King's Landing   \n",
      "12004       Samwell Tarly  S08E06  The Crownlands  Outside King's Landing   \n",
      "12005        Edmure Tully  S08E06  The Crownlands  Outside King's Landing   \n",
      "12006          Arya Stark  S08E06  The Crownlands  Outside King's Landing   \n",
      "12007          Bran Stark  S08E06  The Crownlands  Outside King's Landing   \n",
      "12008         Sansa Stark  S08E06  The Crownlands  Outside King's Landing   \n",
      "12009    Brienne of Tarth  S08E06  The Crownlands  Outside King's Landing   \n",
      "12010      Davos Seaworth  S08E06  The Crownlands  Outside King's Landing   \n",
      "12011              Gendry  S08E06  The Crownlands  Outside King's Landing   \n",
      "12012        Yara Greyjoy  S08E06  The Crownlands  Outside King's Landing   \n",
      "12013         Robin Arryn  S08E06  The Crownlands  Outside King's Landing   \n",
      "12014          Yohn Royce  S08E06  The Crownlands  Outside King's Landing   \n",
      "12015        Dornish Lord  S08E06  The Crownlands  Outside King's Landing   \n",
      "12016             Lord #1  S08E06  The Crownlands  Outside King's Landing   \n",
      "12017             Lord #2  S08E06  The Crownlands  Outside King's Landing   \n",
      "12018             Lord #3  S08E06  The Crownlands  Outside King's Landing   \n",
      "12019             Lord #4  S08E06  The Crownlands  Outside King's Landing   \n",
      "12020    Tyrion Lannister  S08E06  The Crownlands  Outside King's Landing   \n",
      "12021           Grey Worm  S08E06  The Crownlands  Outside King's Landing   \n",
      "12022       Samwell Tarly  S08E06  The Crownlands  Outside King's Landing   \n",
      "12023        Edmure Tully  S08E06  The Crownlands  Outside King's Landing   \n",
      "12024          Arya Stark  S08E06  The Crownlands  Outside King's Landing   \n",
      "12025          Bran Stark  S08E06  The Crownlands  Outside King's Landing   \n",
      "12026         Sansa Stark  S08E06  The Crownlands  Outside King's Landing   \n",
      "12027    Brienne of Tarth  S08E06  The Crownlands  Outside King's Landing   \n",
      "12028      Davos Seaworth  S08E06  The Crownlands  Outside King's Landing   \n",
      "12029              Gendry  S08E06  The Crownlands  Outside King's Landing   \n",
      "12030        Yara Greyjoy  S08E06  The Crownlands  Outside King's Landing   \n",
      "12031         Robin Arryn  S08E06  The Crownlands  Outside King's Landing   \n",
      "12032          Yohn Royce  S08E06  The Crownlands  Outside King's Landing   \n",
      "12033        Dornish Lord  S08E06  The Crownlands  Outside King's Landing   \n",
      "12034             Lord #1  S08E06  The Crownlands  Outside King's Landing   \n",
      "12035             Lord #2  S08E06  The Crownlands  Outside King's Landing   \n",
      "12036             Lord #3  S08E06  The Crownlands  Outside King's Landing   \n",
      "12037             Lord #4  S08E06  The Crownlands  Outside King's Landing   \n",
      "\n",
      "       time  \n",
      "6272     10  \n",
      "9708     34  \n",
      "9709     34  \n",
      "9710     34  \n",
      "9711     34  \n",
      "9712     34  \n",
      "9713     34  \n",
      "9714     34  \n",
      "9715     34  \n",
      "9716     34  \n",
      "9717     47  \n",
      "9718     47  \n",
      "9719     47  \n",
      "9720     47  \n",
      "9721     47  \n",
      "9722     47  \n",
      "9723     47  \n",
      "9724     47  \n",
      "9725     47  \n",
      "9726     47  \n",
      "9727     47  \n",
      "9728     47  \n",
      "9729     19  \n",
      "9730     19  \n",
      "9731     19  \n",
      "9732     53  \n",
      "9733     53  \n",
      "9734     81  \n",
      "9735     81  \n",
      "9736     81  \n",
      "9737     81  \n",
      "9738     81  \n",
      "9739     81  \n",
      "9740     81  \n",
      "9741     81  \n",
      "9742     81  \n",
      "9743     81  \n",
      "9744     81  \n",
      "9745     81  \n",
      "9746     11  \n",
      "9747     69  \n",
      "9748     69  \n",
      "9749     69  \n",
      "9750     69  \n",
      "9751     69  \n",
      "9752     69  \n",
      "9753     69  \n",
      "9754     69  \n",
      "9755     69  \n",
      "9756     69  \n",
      "9757     69  \n",
      "9758     69  \n",
      "9759     38  \n",
      "9760     38  \n",
      "9761     38  \n",
      "9762     38  \n",
      "9763     38  \n",
      "9764     38  \n",
      "9765     38  \n",
      "9766     38  \n",
      "9767     38  \n",
      "9768     38  \n",
      "9769     93  \n",
      "9770     93  \n",
      "9771     93  \n",
      "9772     93  \n",
      "9773     93  \n",
      "9774     93  \n",
      "9775     93  \n",
      "9776     93  \n",
      "9777     93  \n",
      "9778     93  \n",
      "9779     93  \n",
      "9780     93  \n",
      "9781     93  \n",
      "9782     93  \n",
      "9783     93  \n",
      "9784     30  \n",
      "9785     30  \n",
      "9786     30  \n",
      "9787     30  \n",
      "9788     30  \n",
      "9789     30  \n",
      "9790     30  \n",
      "9791     30  \n",
      "9792     30  \n",
      "9793     30  \n",
      "9794     30  \n",
      "9795     30  \n",
      "9796     30  \n",
      "9797     30  \n",
      "9798     72  \n",
      "9799     72  \n",
      "9800     72  \n",
      "9801     72  \n",
      "9802     72  \n",
      "9803     72  \n",
      "9804     72  \n",
      "9805     72  \n",
      "9806     72  \n",
      "9807     72  \n",
      "9808     72  \n",
      "9809     72  \n",
      "9810     72  \n",
      "9811     72  \n",
      "9812     72  \n",
      "9813     72  \n",
      "9814     72  \n",
      "9815    216  \n",
      "9816    216  \n",
      "9817    216  \n",
      "9818    216  \n",
      "9819    216  \n",
      "9820    216  \n",
      "9821    216  \n",
      "9822    216  \n",
      "9823    216  \n",
      "9824    216  \n",
      "9825    216  \n",
      "9826    216  \n",
      "9827    216  \n",
      "9828    216  \n",
      "9829    216  \n",
      "9830    268  \n",
      "9831    268  \n",
      "9832    268  \n",
      "9833    268  \n",
      "9834    268  \n",
      "9835    268  \n",
      "9836    268  \n",
      "9837    268  \n",
      "9838    268  \n",
      "9839    268  \n",
      "9840    268  \n",
      "9841    268  \n",
      "9842    268  \n",
      "9843    268  \n",
      "9844    268  \n",
      "9845    268  \n",
      "9846    157  \n",
      "9847    157  \n",
      "9848    157  \n",
      "9849    157  \n",
      "9850    157  \n",
      "9851    157  \n",
      "9852    157  \n",
      "9853    157  \n",
      "9854    157  \n",
      "9855    157  \n",
      "9856    157  \n",
      "9857    157  \n",
      "9858    157  \n",
      "9859    157  \n",
      "9860    157  \n",
      "9861    128  \n",
      "9862    128  \n",
      "9863    128  \n",
      "9864    128  \n",
      "9865    128  \n",
      "9866    128  \n",
      "9867    128  \n",
      "9868    128  \n",
      "9869    128  \n",
      "9870    128  \n",
      "9871    128  \n",
      "9880    162  \n",
      "9881    162  \n",
      "9882     19  \n",
      "9883     19  \n",
      "9884     19  \n",
      "9885     19  \n",
      "9886     19  \n",
      "9887     19  \n",
      "9888     19  \n",
      "9889     19  \n",
      "9890     19  \n",
      "9891     19  \n",
      "9892     19  \n",
      "9893     67  \n",
      "9894     67  \n",
      "9895     67  \n",
      "9896     67  \n",
      "9897     67  \n",
      "9898     67  \n",
      "9899     67  \n",
      "9900     67  \n",
      "9901     67  \n",
      "9902     67  \n",
      "9903     67  \n",
      "9904     67  \n",
      "9905     67  \n",
      "9906     67  \n",
      "9907     67  \n",
      "9945     40  \n",
      "11981    39  \n",
      "11982    23  \n",
      "11983    23  \n",
      "11984   661  \n",
      "11985   661  \n",
      "11986   661  \n",
      "11987   661  \n",
      "11988   661  \n",
      "11989   661  \n",
      "11990   661  \n",
      "11991   661  \n",
      "11992   661  \n",
      "11993   661  \n",
      "11994   661  \n",
      "11995   661  \n",
      "11996   661  \n",
      "11997   661  \n",
      "11998   661  \n",
      "11999   661  \n",
      "12000   661  \n",
      "12001   661  \n",
      "12002    38  \n",
      "12003    38  \n",
      "12004    38  \n",
      "12005    38  \n",
      "12006    38  \n",
      "12007    38  \n",
      "12008    38  \n",
      "12009    38  \n",
      "12010    38  \n",
      "12011    38  \n",
      "12012    38  \n",
      "12013    38  \n",
      "12014    38  \n",
      "12015    38  \n",
      "12016    38  \n",
      "12017    38  \n",
      "12018    38  \n",
      "12019    38  \n",
      "12020    52  \n",
      "12021    52  \n",
      "12022    52  \n",
      "12023    52  \n",
      "12024    52  \n",
      "12025    52  \n",
      "12026    52  \n",
      "12027    52  \n",
      "12028    52  \n",
      "12029    52  \n",
      "12030    52  \n",
      "12031    52  \n",
      "12032    52  \n",
      "12033    52  \n",
      "12034    52  \n",
      "12035    52  \n",
      "12036    52  \n",
      "12037    52  \n"
     ]
    }
   ],
   "source": [
    "filtered_data = data[(data['location'] == \"The Crownlands\") & (data['sub_location'] == \"Outside King's Landing\")]\n",
    "print(filtered_data)"
   ]
  },
  {
   "cell_type": "code",
   "execution_count": 56,
   "metadata": {},
   "outputs": [
    {
     "name": "stdout",
     "output_type": "stream",
     "text": [
      "                   name episode        location       sub_location  time\n",
      "5643              Bronn  S05E02  The Crownlands  Castle Stokeworth    89\n",
      "5644  Lollys Stokeworth  S05E02  The Crownlands  Castle Stokeworth    89\n",
      "5645              Bronn  S05E02  The Crownlands  Castle Stokeworth    33\n",
      "5646  Lollys Stokeworth  S05E02  The Crownlands  Castle Stokeworth    33\n",
      "5647    Jaime Lannister  S05E02  The Crownlands  Castle Stokeworth    33\n",
      "5648              Bronn  S05E02  The Crownlands  Castle Stokeworth    51\n",
      "5649    Jaime Lannister  S05E02  The Crownlands  Castle Stokeworth    51\n"
     ]
    }
   ],
   "source": [
    "filtered_data = data[(data['location'] == \"The Crownlands\") & (data['sub_location'] == \"Castle Stokeworth\")]\n",
    "print(filtered_data)"
   ]
  },
  {
   "cell_type": "code",
   "execution_count": 57,
   "metadata": {},
   "outputs": [
    {
     "name": "stdout",
     "output_type": "stream",
     "text": [
      "Empty DataFrame\n",
      "Columns: [name, episode, location, sub_location, time]\n",
      "Index: []\n"
     ]
    }
   ],
   "source": [
    "filtered_data = data[(data['location'] == \"The Crownlands\") & (data['sub_location'] == \"The Crownlands\")]\n",
    "print(filtered_data)"
   ]
  },
  {
   "cell_type": "code",
   "execution_count": 58,
   "metadata": {},
   "outputs": [
    {
     "name": "stdout",
     "output_type": "stream",
     "text": [
      "                    name episode        location             sub_location  \\\n",
      "3184              Qyburn  S03E07  The Riverlands  South to King's Landing   \n",
      "3185     Jaime Lannister  S03E07  The Riverlands  South to King's Landing   \n",
      "3186              Qyburn  S03E07  The Riverlands  South to King's Landing   \n",
      "3187     Jaime Lannister  S03E07  The Riverlands  South to King's Landing   \n",
      "3188  Steelshanks Walton  S03E07  The Riverlands  South to King's Landing   \n",
      "8726          Arya Stark  S07E01  The Riverlands  South to King's Landing   \n",
      "\n",
      "      time  \n",
      "3184   164  \n",
      "3185   164  \n",
      "3186    68  \n",
      "3187    68  \n",
      "3188    68  \n",
      "8726   249  \n"
     ]
    }
   ],
   "source": [
    "filtered_data = data[(data['location'] == \"The Riverlands\") & (data['sub_location'] == \"South to King's Landing\")]\n",
    "print(filtered_data)"
   ]
  },
  {
   "cell_type": "code",
   "execution_count": 60,
   "metadata": {},
   "outputs": [
    {
     "name": "stdout",
     "output_type": "stream",
     "text": [
      "                  name episode        location       sub_location  time\n",
      "2244        Arya Stark  S02E10  The Riverlands  Outside Harrenhal    12\n",
      "2245           Hot Pie  S02E10  The Riverlands  Outside Harrenhal    12\n",
      "2246            Gendry  S02E10  The Riverlands  Outside Harrenhal    12\n",
      "2247        Arya Stark  S02E10  The Riverlands  Outside Harrenhal    17\n",
      "2248           Hot Pie  S02E10  The Riverlands  Outside Harrenhal    17\n",
      "2249            Gendry  S02E10  The Riverlands  Outside Harrenhal    17\n",
      "2250      Jaqen H'ghar  S02E10  The Riverlands  Outside Harrenhal    17\n",
      "2251        Arya Stark  S02E10  The Riverlands  Outside Harrenhal   132\n",
      "2252      Jaqen H'ghar  S02E10  The Riverlands  Outside Harrenhal   132\n",
      "2253        Arya Stark  S02E10  The Riverlands  Outside Harrenhal    24\n",
      "2254      Jaqen H'ghar  S02E10  The Riverlands  Outside Harrenhal    24\n",
      "2255  Jaqen's Disguise  S02E10  The Riverlands  Outside Harrenhal    24\n"
     ]
    }
   ],
   "source": [
    "filtered_data = data[(data['location'] == \"The Riverlands\") & (data['sub_location'] == \"Outside Harrenhal\")]\n",
    "print(filtered_data)"
   ]
  },
  {
   "cell_type": "code",
   "execution_count": 63,
   "metadata": {},
   "outputs": [
    {
     "name": "stdout",
     "output_type": "stream",
     "text": [
      "                  name episode        location       sub_location  time\n",
      "2244        Arya Stark  S02E10  The Riverlands  Outside Harrenhal    12\n",
      "2245           Hot Pie  S02E10  The Riverlands  Outside Harrenhal    12\n",
      "2246            Gendry  S02E10  The Riverlands  Outside Harrenhal    12\n",
      "2247        Arya Stark  S02E10  The Riverlands  Outside Harrenhal    17\n",
      "2248           Hot Pie  S02E10  The Riverlands  Outside Harrenhal    17\n",
      "2249            Gendry  S02E10  The Riverlands  Outside Harrenhal    17\n",
      "2250      Jaqen H'ghar  S02E10  The Riverlands  Outside Harrenhal    17\n",
      "2251        Arya Stark  S02E10  The Riverlands  Outside Harrenhal   132\n",
      "2252      Jaqen H'ghar  S02E10  The Riverlands  Outside Harrenhal   132\n",
      "2253        Arya Stark  S02E10  The Riverlands  Outside Harrenhal    24\n",
      "2254      Jaqen H'ghar  S02E10  The Riverlands  Outside Harrenhal    24\n",
      "2255  Jaqen's Disguise  S02E10  The Riverlands  Outside Harrenhal    24\n"
     ]
    }
   ],
   "source": [
    "filtered_data = data[(data['location'] == \"The Riverlands\") & (data['sub_location'] == \"Outside Harrenhal\")]\n",
    "print(filtered_data)"
   ]
  },
  {
   "cell_type": "code",
   "execution_count": 64,
   "metadata": {},
   "outputs": [
    {
     "name": "stdout",
     "output_type": "stream",
     "text": [
      "                  name episode        location  sub_location  time\n",
      "2623             Locke  S03E03  The Riverlands  To Harrenhal    17\n",
      "2624             Locke  S03E03  The Riverlands  To Harrenhal    92\n",
      "2625  Brienne of Tarth  S03E03  The Riverlands  To Harrenhal    92\n",
      "2626   Jaime Lannister  S03E03  The Riverlands  To Harrenhal    92\n",
      "2730  Brienne of Tarth  S03E03  The Riverlands  To Harrenhal    69\n",
      "2731   Jaime Lannister  S03E03  The Riverlands  To Harrenhal    69\n",
      "2732             Locke  S03E03  The Riverlands  To Harrenhal    69\n",
      "2733   Jaime Lannister  S03E03  The Riverlands  To Harrenhal    74\n",
      "2734             Locke  S03E03  The Riverlands  To Harrenhal    74\n",
      "2735  Brienne of Tarth  S03E03  The Riverlands  To Harrenhal    44\n",
      "2736   Jaime Lannister  S03E03  The Riverlands  To Harrenhal    44\n",
      "2737             Locke  S03E03  The Riverlands  To Harrenhal    44\n",
      "2738   Jaime Lannister  S03E03  The Riverlands  To Harrenhal    41\n",
      "2739             Locke  S03E03  The Riverlands  To Harrenhal    41\n",
      "2740  Brienne of Tarth  S03E03  The Riverlands  To Harrenhal    45\n",
      "2741   Jaime Lannister  S03E03  The Riverlands  To Harrenhal    45\n",
      "2742             Locke  S03E03  The Riverlands  To Harrenhal    45\n",
      "2743   Jaime Lannister  S03E03  The Riverlands  To Harrenhal    72\n",
      "2744             Locke  S03E03  The Riverlands  To Harrenhal    72\n",
      "2745   Jaime Lannister  S03E04  The Riverlands  To Harrenhal   166\n",
      "2746  Brienne of Tarth  S03E04  The Riverlands  To Harrenhal   166\n",
      "2747             Locke  S03E04  The Riverlands  To Harrenhal   166\n",
      "2792             Locke  S03E04  The Riverlands  To Harrenhal    13\n",
      "2793   Jaime Lannister  S03E04  The Riverlands  To Harrenhal    13\n",
      "2794  Brienne of Tarth  S03E04  The Riverlands  To Harrenhal    13\n",
      "2795  Brienne of Tarth  S03E04  The Riverlands  To Harrenhal   121\n",
      "2796   Jaime Lannister  S03E04  The Riverlands  To Harrenhal   121\n"
     ]
    }
   ],
   "source": [
    "filtered_data = data[(data['location'] == \"The Riverlands\") & (data['sub_location'] == \"To Harrenhal\")]\n",
    "print(filtered_data)"
   ]
  },
  {
   "cell_type": "code",
   "execution_count": 68,
   "metadata": {},
   "outputs": [
    {
     "name": "stdout",
     "output_type": "stream",
     "text": [
      "Empty DataFrame\n",
      "Columns: [name, episode, location, sub_location, time]\n",
      "Index: []\n"
     ]
    }
   ],
   "source": [
    "filtered_data = data[(data['location'] == \"The Riverlands\") & (data['sub_location'] == \"North to the Red Fork\")]\n",
    "print(filtered_data)"
   ]
  },
  {
   "cell_type": "code",
   "execution_count": 67,
   "metadata": {},
   "outputs": [],
   "source": [
    "data.loc[(data['location'] == \"The Riverlands\") & (data['sub_location'] == \"North to the Red Fork\"), 'sub_location'] = \"Red Fork\""
   ]
  },
  {
   "cell_type": "code",
   "execution_count": 69,
   "metadata": {},
   "outputs": [
    {
     "name": "stdout",
     "output_type": "stream",
     "text": [
      "                name episode        location sub_location  time\n",
      "2553      Arya Stark  S03E02  The Riverlands     Red Fork    57\n",
      "2554          Gendry  S03E02  The Riverlands     Red Fork    57\n",
      "2555         Hot Pie  S03E02  The Riverlands     Red Fork    57\n",
      "2556      Arya Stark  S03E02  The Riverlands     Red Fork   189\n",
      "2557          Gendry  S03E02  The Riverlands     Red Fork   189\n",
      "2558         Hot Pie  S03E02  The Riverlands     Red Fork   189\n",
      "2559   Thoros of Myr  S03E02  The Riverlands     Red Fork   189\n",
      "2560           Anguy  S03E02  The Riverlands     Red Fork   189\n",
      "3212      Arya Stark  S03E08  The Riverlands     Red Fork    55\n",
      "3213  Sandor Clegane  S03E08  The Riverlands     Red Fork    55\n",
      "3214      Arya Stark  S03E08  The Riverlands     Red Fork   112\n",
      "3215  Sandor Clegane  S03E08  The Riverlands     Red Fork   112\n"
     ]
    }
   ],
   "source": [
    "filtered_data = data[(data['location'] == \"The Riverlands\") & (data['sub_location'] == \"Red Fork\")]\n",
    "print(filtered_data)"
   ]
  },
  {
   "cell_type": "code",
   "execution_count": 70,
   "metadata": {},
   "outputs": [
    {
     "name": "stdout",
     "output_type": "stream",
     "text": [
      "                      name episode        location            sub_location  \\\n",
      "2205      Brienne of Tarth  S02E10  The Riverlands  East to King's Landing   \n",
      "2206       Jaime Lannister  S02E10  The Riverlands  East to King's Landing   \n",
      "2207      Brienne of Tarth  S02E10  The Riverlands  East to King's Landing   \n",
      "2208       Jaime Lannister  S02E10  The Riverlands  East to King's Landing   \n",
      "2209           Soldier Tom  S02E10  The Riverlands  East to King's Landing   \n",
      "2210         Stark Soldier  S02E10  The Riverlands  East to King's Landing   \n",
      "2478       Jaime Lannister  S03E02  The Riverlands  East to King's Landing   \n",
      "2479      Brienne of Tarth  S03E02  The Riverlands  East to King's Landing   \n",
      "2480       Jaime Lannister  S03E02  The Riverlands  East to King's Landing   \n",
      "2481      Brienne of Tarth  S03E02  The Riverlands  East to King's Landing   \n",
      "2482  Riverlands Traveller  S03E02  The Riverlands  East to King's Landing   \n",
      "2602       Jaime Lannister  S03E02  The Riverlands  East to King's Landing   \n",
      "2603      Brienne of Tarth  S03E02  The Riverlands  East to King's Landing   \n",
      "2604       Jaime Lannister  S03E02  The Riverlands  East to King's Landing   \n",
      "2605      Brienne of Tarth  S03E02  The Riverlands  East to King's Landing   \n",
      "2606                 Locke  S03E02  The Riverlands  East to King's Landing   \n",
      "2607  Riverlands Traveller  S03E02  The Riverlands  East to King's Landing   \n",
      "\n",
      "      time  \n",
      "2205    95  \n",
      "2206    95  \n",
      "2207   203  \n",
      "2208   203  \n",
      "2209   203  \n",
      "2210   203  \n",
      "2478   157  \n",
      "2479   157  \n",
      "2480    61  \n",
      "2481    61  \n",
      "2482    61  \n",
      "2602   195  \n",
      "2603   195  \n",
      "2604    58  \n",
      "2605    58  \n",
      "2606    58  \n",
      "2607    58  \n"
     ]
    }
   ],
   "source": [
    "filtered_data = data[(data['location'] == \"The Riverlands\") & (data['sub_location'] == \"East to King's Landing\")]\n",
    "print(filtered_data)"
   ]
  },
  {
   "cell_type": "code",
   "execution_count": 73,
   "metadata": {},
   "outputs": [
    {
     "name": "stdout",
     "output_type": "stream",
     "text": [
      "                  name episode        location sub_location  time\n",
      "8178    Sandor Clegane  S06E08  The Riverlands       Forest   162\n",
      "8179    Lem Lemoncloak  S06E08  The Riverlands       Forest   162\n",
      "8180  Beric Dondarrion  S06E08  The Riverlands       Forest   162\n",
      "8181     Thoros of Myr  S06E08  The Riverlands       Forest   162\n",
      "8182    Sandor Clegane  S06E08  The Riverlands       Forest   120\n",
      "8183  Beric Dondarrion  S06E08  The Riverlands       Forest   120\n",
      "8184     Thoros of Myr  S06E08  The Riverlands       Forest   120\n"
     ]
    }
   ],
   "source": [
    "filtered_data = data[(data['location'] == \"The Riverlands\") & (data['sub_location'] == \"Forest\")]\n",
    "print(filtered_data)"
   ]
  },
  {
   "cell_type": "code",
   "execution_count": null,
   "metadata": {},
   "outputs": [],
   "source": []
  }
 ],
 "metadata": {
  "kernelspec": {
   "display_name": "venv",
   "language": "python",
   "name": "python3"
  },
  "language_info": {
   "codemirror_mode": {
    "name": "ipython",
    "version": 3
   },
   "file_extension": ".py",
   "mimetype": "text/x-python",
   "name": "python",
   "nbconvert_exporter": "python",
   "pygments_lexer": "ipython3",
   "version": "3.12.4"
  }
 },
 "nbformat": 4,
 "nbformat_minor": 2
}
